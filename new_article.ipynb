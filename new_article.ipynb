{
 "cells": [
  {
   "cell_type": "code",
   "execution_count": 20,
   "metadata": {},
   "outputs": [],
   "source": [
    "from pathlib import Path\n",
    "import json\n",
    "import shutil"
   ]
  },
  {
   "cell_type": "code",
   "execution_count": 21,
   "metadata": {},
   "outputs": [
    {
     "name": "stdout",
     "output_type": "stream",
     "text": [
      "The directory 'articles' already exists. Removing it.\n"
     ]
    },
    {
     "data": {
      "text/plain": [
       "PosixPath('articles')"
      ]
     },
     "execution_count": 21,
     "metadata": {},
     "output_type": "execute_result"
    }
   ],
   "source": [
    "article_id = 'abhinav'\n",
    "NEW_ARTICLE_DIR = Path('articles') / article_id\n",
    "SAMPLE_DIR = Path('sample')\n",
    "\n",
    "if NEW_ARTICLE_DIR.exists():\n",
    "    print(f\"The directory '{NEW_ARTICLE_DIR}' already exists. Removing it.\")\n",
    "    shutil.rmtree(NEW_ARTICLE_DIR)\n",
    "\n",
    "NEW_ARTICLE_DIR.mkdir(parents=True, exist_ok=True)\n",
    "shutil.copytree(SAMPLE_DIR, NEW_ARTICLE_DIR, dirs_exist_ok=True)"
   ]
  }
 ],
 "metadata": {
  "kernelspec": {
   "display_name": "base",
   "language": "python",
   "name": "python3"
  },
  "language_info": {
   "codemirror_mode": {
    "name": "ipython",
    "version": 3
   },
   "file_extension": ".py",
   "mimetype": "text/x-python",
   "name": "python",
   "nbconvert_exporter": "python",
   "pygments_lexer": "ipython3",
   "version": "3.10.14"
  }
 },
 "nbformat": 4,
 "nbformat_minor": 2
}
